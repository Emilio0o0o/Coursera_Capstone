{
 "cells": [
  {
   "cell_type": "markdown",
   "metadata": {},
   "source": [
    "#### Coursera Capstone\n",
    "## The Battle of the Neighborhoods\n",
    "### Find the best place to start a restaurant in Amsterdam"
   ]
  },
  {
   "cell_type": "markdown",
   "metadata": {},
   "source": [
    "#### Introduction\n",
    "We have been tasked by a vegetarian restaurant operator from New York who wants to open a second location in Europe. Based on initial market research, he decided that <b>Amsterdam</b> would be the perfect place to start such a restaurant, due to its high number of vegetarians, tourists and excellent accessibility. <br>\n",
    "\n",
    "The operator knows from previous experience that <b>location</b> makes as much, if not more, of a difference in the success of a new restaurant as the menu does. However, since he is not very familiar in the city of Amsterdam, he approached us to come up with a data-driven advice for the best location to open up a new restaurant. <br>\n",
    "\n",
    "<img src=https://www.meininger-hotels.com/fileadmin/images/meininger-hotels-in-amsterdam-zentrum-6d28120.jpg width =1000 height=500 >"
   ]
  },
  {
   "cell_type": "markdown",
   "metadata": {},
   "source": [
    "#### Target audience\n",
    "The target audience of this report is the restaurant operator from New York.\n",
    "\n",
    "#### Problem description\n",
    "Ideally, the operator would open a restaurant in the heart of the city of Amsterdam. Although this would expose his restaurants to a lot of passing tourists each day, this would mean excessive costs in terms of rent each month. At this point, he doesn't want to take this risk. Therefore, he is looking for a similar neighborhood with lower average rent prices. <br>\n",
    "\n",
    "The main problem to be resolved in this project is as follows: <br>\n",
    ">***Provide a top three of neighborhoods in Amsterdam that are ideal for opening a new restaurant, based on affordability, demographics and competition***"
   ]
  },
  {
   "cell_type": "markdown",
   "metadata": {},
   "source": [
    "#### Data description\n",
    "The data we will collect consists of three sources. Each source addresses one of the criteria categories from the problem description. <br>\n",
    "\n",
    "1. **Neighborhood data** - Basic statistics about the different boroughs and its neighborhoods are collected from Wikipedia ([Wikipedia](https://en.wikipedia.org/wiki/Boroughs_of_Amsterdam))\n",
    "2. **Demographic data** - Statistics on the people living in each neighborhood will be collected from the website of the Central Department of Statistics ([website CBS](https://opendata.cbs.nl/statline/portal.html?_la=nl&_catalog=CBS&tableId=37296ned&_theme=63))\n",
    "3. **Rent costs** - We will estimate the rent costs per borough based on the average value per square meter of the venues. The data will be obtained via data.amsterdam.nl ([dataset: Gemiddelde WOZ-waarde woningen wijken en stadsdelen](https://data.amsterdam.nl/datasets/B4EcyyT9e_AFyQ/stedelijke-ontwikkeling-wijken/))\n",
    "4. **Venue data** - We will use the Foursquare API to retrieve all restaurants per borough ([Foursquare API](https://foursquare.com/developers/apps)) <br>\n",
    "\n",
    "Example data Wikipedia:"
   ]
  },
  {
   "cell_type": "code",
   "execution_count": 18,
   "metadata": {
    "jupyter": {
     "source_hidden": true
    }
   },
   "outputs": [
    {
     "data": {
      "text/html": [
       "<div>\n",
       "<style scoped>\n",
       "    .dataframe tbody tr th:only-of-type {\n",
       "        vertical-align: middle;\n",
       "    }\n",
       "\n",
       "    .dataframe tbody tr th {\n",
       "        vertical-align: top;\n",
       "    }\n",
       "\n",
       "    .dataframe thead th {\n",
       "        text-align: right;\n",
       "    }\n",
       "</style>\n",
       "<table border=\"1\" class=\"dataframe\">\n",
       "  <thead>\n",
       "    <tr style=\"text-align: right;\">\n",
       "      <th></th>\n",
       "      <th>Borough</th>\n",
       "      <th>Area</th>\n",
       "      <th>Population</th>\n",
       "      <th>Population density</th>\n",
       "      <th>Location (in green)</th>\n",
       "      <th>Neighbourhoods</th>\n",
       "    </tr>\n",
       "  </thead>\n",
       "  <tbody>\n",
       "    <tr>\n",
       "      <th>0</th>\n",
       "      <td>Centrum (Centre)</td>\n",
       "      <td>8.04 km²</td>\n",
       "      <td>86422</td>\n",
       "      <td>13,748/km²</td>\n",
       "      <td>NaN</td>\n",
       "      <td>Binnenstad, Grachtengordel, Haarlemmerbuurt, J...</td>\n",
       "    </tr>\n",
       "    <tr>\n",
       "      <th>1</th>\n",
       "      <td>Noord (North)</td>\n",
       "      <td>49.01 km²</td>\n",
       "      <td>94766</td>\n",
       "      <td>2,269/km²</td>\n",
       "      <td>NaN</td>\n",
       "      <td>Banne Buiksloot, Buiksloot, Buikslotermeer, Fl...</td>\n",
       "    </tr>\n",
       "    <tr>\n",
       "      <th>2</th>\n",
       "      <td>Nieuw-West(New West)</td>\n",
       "      <td>32.38 km²</td>\n",
       "      <td>151677</td>\n",
       "      <td>4,478/km²</td>\n",
       "      <td>NaN</td>\n",
       "      <td>Geuzenveld, Nieuw Sloten, Oostoever, Osdorp, O...</td>\n",
       "    </tr>\n",
       "    <tr>\n",
       "      <th>3</th>\n",
       "      <td>Oost (East)</td>\n",
       "      <td>30.56 km²</td>\n",
       "      <td>135767</td>\n",
       "      <td>7,635/km²</td>\n",
       "      <td>NaN</td>\n",
       "      <td>IJburg, Indische Buurt, Eastern Docklands, Oud...</td>\n",
       "    </tr>\n",
       "    <tr>\n",
       "      <th>4</th>\n",
       "      <td>West</td>\n",
       "      <td>9.89 km²</td>\n",
       "      <td>143842</td>\n",
       "      <td>15,252/km²</td>\n",
       "      <td>NaN</td>\n",
       "      <td>Frederik Hendrikbuurt, Houthaven, Spaarndammer...</td>\n",
       "    </tr>\n",
       "    <tr>\n",
       "      <th>5</th>\n",
       "      <td>Westpoort(West Gateway)</td>\n",
       "      <td>10 km²</td>\n",
       "      <td>192</td>\n",
       "      <td>10/km²</td>\n",
       "      <td>NaN</td>\n",
       "      <td>Westpoort</td>\n",
       "    </tr>\n",
       "    <tr>\n",
       "      <th>6</th>\n",
       "      <td>Zuid (South)</td>\n",
       "      <td>17.41 km²</td>\n",
       "      <td>144432</td>\n",
       "      <td>9,349/km²</td>\n",
       "      <td>NaN</td>\n",
       "      <td>Apollobuurt, Buitenveldert, Hoofddorppleinbuur...</td>\n",
       "    </tr>\n",
       "    <tr>\n",
       "      <th>7</th>\n",
       "      <td>Zuidoost(Southeast)</td>\n",
       "      <td>22.08 km²</td>\n",
       "      <td>87854</td>\n",
       "      <td>4,391/km²</td>\n",
       "      <td>NaN</td>\n",
       "      <td>Bijlmermeer, Venserpolder, Gaasperdam, Driemond</td>\n",
       "    </tr>\n",
       "  </tbody>\n",
       "</table>\n",
       "</div>"
      ],
      "text/plain": [
       "                   Borough       Area  Population Population density  \\\n",
       "0         Centrum (Centre)   8.04 km²       86422         13,748/km²   \n",
       "1            Noord (North)  49.01 km²       94766          2,269/km²   \n",
       "2     Nieuw-West(New West)  32.38 km²      151677          4,478/km²   \n",
       "3              Oost (East)  30.56 km²      135767          7,635/km²   \n",
       "4                     West   9.89 km²      143842         15,252/km²   \n",
       "5  Westpoort(West Gateway)     10 km²         192             10/km²   \n",
       "6             Zuid (South)  17.41 km²      144432          9,349/km²   \n",
       "7      Zuidoost(Southeast)  22.08 km²       87854          4,391/km²   \n",
       "\n",
       "   Location (in green)                                     Neighbourhoods  \n",
       "0                  NaN  Binnenstad, Grachtengordel, Haarlemmerbuurt, J...  \n",
       "1                  NaN  Banne Buiksloot, Buiksloot, Buikslotermeer, Fl...  \n",
       "2                  NaN  Geuzenveld, Nieuw Sloten, Oostoever, Osdorp, O...  \n",
       "3                  NaN  IJburg, Indische Buurt, Eastern Docklands, Oud...  \n",
       "4                  NaN  Frederik Hendrikbuurt, Houthaven, Spaarndammer...  \n",
       "5                  NaN                                          Westpoort  \n",
       "6                  NaN  Apollobuurt, Buitenveldert, Hoofddorppleinbuur...  \n",
       "7                  NaN    Bijlmermeer, Venserpolder, Gaasperdam, Driemond  "
      ]
     },
     "execution_count": 18,
     "metadata": {},
     "output_type": "execute_result"
    }
   ],
   "source": [
    "import pandas as pd\n",
    "url = 'https://en.wikipedia.org/wiki/Boroughs_of_Amsterdam'\n",
    "data = pd.read_html(url)\n",
    "df = pd.DataFrame(data[1])\n",
    "df"
   ]
  }
 ],
 "metadata": {
  "kernelspec": {
   "display_name": "Python 3",
   "language": "python",
   "name": "python3"
  },
  "language_info": {
   "codemirror_mode": {
    "name": "ipython",
    "version": 3
   },
   "file_extension": ".py",
   "mimetype": "text/x-python",
   "name": "python",
   "nbconvert_exporter": "python",
   "pygments_lexer": "ipython3",
   "version": "3.7.5"
  }
 },
 "nbformat": 4,
 "nbformat_minor": 4
}
