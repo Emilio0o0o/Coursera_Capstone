{
 "cells": [
  {
   "cell_type": "markdown",
   "metadata": {},
   "source": [
    "#### Coursera Capstone\n",
    "## The Battle of the Neighborhoods\n",
    "### Find the best place to start a restaurant in Amsterdam"
   ]
  },
  {
   "cell_type": "markdown",
   "metadata": {},
   "source": [
    "#### Introduction\n",
    "We have been tasked by a vegetarian restaurant operator from New York who wants to open a second location in Europe. Based on initial market research, he decided that <b>Amsterdam</b> would be the perfect place to start such a restaurant, due to its high number of vegetarians, tourists and excellent accessibility. <br>\n",
    "\n",
    "The operator knows from previous experience that <b>location</b> makes as much, if not more, of a difference in the success of a new restaurant as the menu does. However, since he is not very familiar in the city of Amsterdam, he approached us to come up with a data-driven advice for the best location to open up a new restaurant. <br>\n",
    "\n",
    "<img src=https://www.meininger-hotels.com/fileadmin/images/meininger-hotels-in-amsterdam-zentrum-6d28120.jpg width =1000 height=500 >"
   ]
  },
  {
   "cell_type": "markdown",
   "metadata": {},
   "source": [
    "#### Problem description\n",
    "Ideally, the operator would open a restaurant in the heart of the city of Amsterdam. Although this would expose his restaurants to a lot of passing tourists each day, this would mean excessive costs in terms of rent each month. At this point, he doesn't want to take this risk. Therefore, he is looking for a similar neighborhood with lower average rent prices. <br>\n",
    "\n",
    "The main problem to be resolved in this project is as follows: <br>\n",
    ">***Provide a top three of neighborhoods in Amsterdam that are ideal for opening a new restaurant, based on affordability, demographics and competition***"
   ]
  },
  {
   "cell_type": "markdown",
   "metadata": {},
   "source": [
    "#### Data description\n",
    "The data we will collect consists of three sources. Each source addresses one of the criteria categories from the problem description. <br>\n",
    "\n",
    "1. **Demographic data** - Statistics on the people living in each neighborhood will be collected from the website of the Central Department of Statistics ([website CBS](https://opendata.cbs.nl/statline/portal.html?_la=nl&_catalog=CBS&tableId=37296ned&_theme=63))\n",
    "2. **Rent costs** - We will estimate the rent costs per borough based on the average value per square meter of the venues. The data will be obtained via data.amsterdam.nl ([dataset: Gemiddelde WOZ-waarde woningen wijken en stadsdelen](https://data.amsterdam.nl/datasets/B4EcyyT9e_AFyQ/stedelijke-ontwikkeling-wijken/)\n",
    "3. **Venue data** - We will use the Foursquare API to retrieve all restaurants per borough ([Foursquare API](https://foursquare.com/developers/apps))"
   ]
  },
  {
   "cell_type": "code",
   "execution_count": null,
   "metadata": {},
   "outputs": [],
   "source": []
  }
 ],
 "metadata": {
  "kernelspec": {
   "display_name": "Python 3",
   "language": "python",
   "name": "python3"
  },
  "language_info": {
   "codemirror_mode": {
    "name": "ipython",
    "version": 3
   },
   "file_extension": ".py",
   "mimetype": "text/x-python",
   "name": "python",
   "nbconvert_exporter": "python",
   "pygments_lexer": "ipython3",
   "version": "3.7.5"
  }
 },
 "nbformat": 4,
 "nbformat_minor": 4
}
